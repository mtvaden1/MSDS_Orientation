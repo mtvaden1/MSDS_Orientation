{
 "cells": [
  {
   "attachments": {},
   "cell_type": "markdown",
   "metadata": {},
   "source": [
    "### Data Import"
   ]
  },
  {
   "cell_type": "code",
   "execution_count": 102,
   "metadata": {},
   "outputs": [
    {
     "data": {
      "text/html": [
       "<div>\n",
       "<style scoped>\n",
       "    .dataframe tbody tr th:only-of-type {\n",
       "        vertical-align: middle;\n",
       "    }\n",
       "\n",
       "    .dataframe tbody tr th {\n",
       "        vertical-align: top;\n",
       "    }\n",
       "\n",
       "    .dataframe thead th {\n",
       "        text-align: right;\n",
       "    }\n",
       "</style>\n",
       "<table border=\"1\" class=\"dataframe\">\n",
       "  <thead>\n",
       "    <tr style=\"text-align: right;\">\n",
       "      <th></th>\n",
       "      <th>Timestamp</th>\n",
       "      <th>Operating System</th>\n",
       "      <th>CPU Cycle Rate (in GHz)</th>\n",
       "      <th>CPU Number of Cores (int)</th>\n",
       "      <th>RAM (in GB)</th>\n",
       "      <th>Hard Drive Size (in GB)</th>\n",
       "      <th>GPU (short description as a string)</th>\n",
       "      <th>GPU CUDA Number of Cores (int)</th>\n",
       "    </tr>\n",
       "  </thead>\n",
       "  <tbody>\n",
       "    <tr>\n",
       "      <th>0</th>\n",
       "      <td>6/13/2023 13:21:08</td>\n",
       "      <td>Windows</td>\n",
       "      <td>3.0</td>\n",
       "      <td>8</td>\n",
       "      <td>16</td>\n",
       "      <td>935</td>\n",
       "      <td>NVIDIA GeForce RTX 2060 with Max-Q Design</td>\n",
       "      <td>5888</td>\n",
       "    </tr>\n",
       "    <tr>\n",
       "      <th>1</th>\n",
       "      <td>6/13/2023 13:23:33</td>\n",
       "      <td>I use Mac and Linux</td>\n",
       "      <td>2133.0</td>\n",
       "      <td>2</td>\n",
       "      <td>8</td>\n",
       "      <td>250</td>\n",
       "      <td>Intel Iris Plus Graphics</td>\n",
       "      <td>1</td>\n",
       "    </tr>\n",
       "    <tr>\n",
       "      <th>2</th>\n",
       "      <td>6/13/2023 13:24:29</td>\n",
       "      <td>MacOS</td>\n",
       "      <td>3.2</td>\n",
       "      <td>8</td>\n",
       "      <td>8</td>\n",
       "      <td>256</td>\n",
       "      <td>M1</td>\n",
       "      <td>8</td>\n",
       "    </tr>\n",
       "    <tr>\n",
       "      <th>3</th>\n",
       "      <td>6/13/2023 13:25:04</td>\n",
       "      <td>MacOS</td>\n",
       "      <td>3.6</td>\n",
       "      <td>12</td>\n",
       "      <td>32</td>\n",
       "      <td>1000</td>\n",
       "      <td>M2 Max</td>\n",
       "      <td>38</td>\n",
       "    </tr>\n",
       "    <tr>\n",
       "      <th>4</th>\n",
       "      <td>6/13/2023 13:25:31</td>\n",
       "      <td>Windows</td>\n",
       "      <td>2.3</td>\n",
       "      <td>8</td>\n",
       "      <td>16</td>\n",
       "      <td>500</td>\n",
       "      <td>NVIDIA GeForce RTX 3050 Ti Laptop GPU</td>\n",
       "      <td>2560</td>\n",
       "    </tr>\n",
       "  </tbody>\n",
       "</table>\n",
       "</div>"
      ],
      "text/plain": [
       "            Timestamp     Operating System  CPU Cycle Rate (in GHz)  \\\n",
       "0  6/13/2023 13:21:08              Windows                      3.0   \n",
       "1  6/13/2023 13:23:33  I use Mac and Linux                   2133.0   \n",
       "2  6/13/2023 13:24:29                MacOS                      3.2   \n",
       "3  6/13/2023 13:25:04                MacOS                      3.6   \n",
       "4  6/13/2023 13:25:31              Windows                      2.3   \n",
       "\n",
       "   CPU Number of Cores (int)  RAM (in GB)  Hard Drive Size (in GB)  \\\n",
       "0                          8           16                      935   \n",
       "1                          2            8                      250   \n",
       "2                          8            8                      256   \n",
       "3                         12           32                     1000   \n",
       "4                          8           16                      500   \n",
       "\n",
       "         GPU (short description as a string)  GPU CUDA Number of Cores (int)  \n",
       "0  NVIDIA GeForce RTX 2060 with Max-Q Design                            5888  \n",
       "1                   Intel Iris Plus Graphics                               1  \n",
       "2                                         M1                               8  \n",
       "3                                     M2 Max                              38  \n",
       "4      NVIDIA GeForce RTX 3050 Ti Laptop GPU                            2560  "
      ]
     },
     "execution_count": 102,
     "metadata": {},
     "output_type": "execute_result"
    }
   ],
   "source": [
    "import pandas as pd\n",
    "\n",
    "data = pd.read_csv('data/2023-06-13-survey.csv')\n",
    "data.head()"
   ]
  },
  {
   "attachments": {},
   "cell_type": "markdown",
   "metadata": {},
   "source": [
    "### Exploratory Histograms"
   ]
  },
  {
   "cell_type": "code",
   "execution_count": null,
   "metadata": {},
   "outputs": [],
   "source": [
    "import matplotlib.pyplot as plt\n",
    "import numpy\n",
    "\n",
    "l = list(range(1, data.shape[1]))\n",
    "l.remove(data.columns.get_loc('GPU (short description as a string)')) # remove this column bc it cannot be addressed with a histogram\n",
    "\n",
    "for i in l:\n",
    "    plt.title(\"Feature: {:s}\".format(str(data.columns[i])))\n",
    "    plt.hist(data.iloc[:,i], bins = 25)\n",
    "    plt.show()"
   ]
  },
  {
   "cell_type": "code",
   "execution_count": 100,
   "metadata": {},
   "outputs": [
    {
     "name": "stdout",
     "output_type": "stream",
     "text": [
      "0    Intel(R) UHD Graphics 620\n",
      "Name: GPU (short description as a string), dtype: object\n"
     ]
    },
    {
     "data": {
      "text/plain": [
       "count      61\n",
       "size       62\n",
       "nunique    48\n",
       "Name: GPU (short description as a string), dtype: int64"
      ]
     },
     "execution_count": 100,
     "metadata": {},
     "output_type": "execute_result"
    }
   ],
   "source": [
    "\n",
    "print(data['GPU (short description as a string)'].mode())\n",
    "\n",
    "data['GPU (short description as a string)'].agg(['count', 'size', 'nunique'])\n"
   ]
  },
  {
   "attachments": {},
   "cell_type": "markdown",
   "metadata": {},
   "source": [
    "as we can see from above, the GPU is the one category that cannot be addressed with a histogram. Using the methods above, we find very few similarities among responses in the survey. There are 48 different unique responses to the survey for types of GPUs out of 62 total responses. Additionally, the most common response as shown above for this feature is Intel(R) UHD Graphics 620. "
   ]
  }
 ],
 "metadata": {
  "kernelspec": {
   "display_name": "base",
   "language": "python",
   "name": "python3"
  },
  "language_info": {
   "codemirror_mode": {
    "name": "ipython",
    "version": 3
   },
   "file_extension": ".py",
   "mimetype": "text/x-python",
   "name": "python",
   "nbconvert_exporter": "python",
   "pygments_lexer": "ipython3",
   "version": "3.9.12"
  },
  "orig_nbformat": 4
 },
 "nbformat": 4,
 "nbformat_minor": 2
}
